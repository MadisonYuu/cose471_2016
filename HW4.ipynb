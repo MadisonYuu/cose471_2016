{
 "cells": [
  {
   "cell_type": "markdown",
   "metadata": {},
   "source": [
    "## [Notice]\n",
    "\n",
    "Remaining course schedule related in term project and homework is below.\n",
    "\n",
    "| Data | Desc. |\n",
    "| ----------| -------------|\n",
    "| 5/24 | Term Project Progress Submission data |\n",
    "| 5/27 | Term Project Progress Presentation (by TAs) |\n",
    "| 6/2   | HW4 Submit |\n",
    "| 6/5   | Term Project Final Submission data |\n",
    "| 6/8, 10 | Term Project Final Presentation (6teams in a day)|\n",
    "\n",
    "As you can see, schedule is tight with term project process. \n",
    "Therefore, this homework consis of previous homework review and simple dicussion problems."
   ]
  },
  {
   "cell_type": "markdown",
   "metadata": {},
   "source": [
    "--------------------------"
   ]
  },
  {
   "cell_type": "markdown",
   "metadata": {},
   "source": [
    "# HW4"
   ]
  },
  {
   "cell_type": "markdown",
   "metadata": {},
   "source": [
    "If you didn't download this homework by using git _'pull'_ command, please manually download [data file](https://raw.githubusercontent.com/MinhwanYu/cose471_2016/master/data/tripadvisor/hw4_data.csv) and put it in\n",
    "__data/tripadvisor/hw4_data.csv__\n",
    "Directory"
   ]
  },
  {
   "cell_type": "code",
   "execution_count": 17,
   "metadata": {
    "collapsed": true
   },
   "outputs": [],
   "source": [
    "%matplotlib inline\n",
    "import json, csv\n",
    "import pandas as pd\n",
    "import numpy as np\n",
    "\n",
    "import glob\n",
    "\n",
    "import matplotlib as mpl\n",
    "import matplotlib.cm as cm\n",
    "import matplotlib.pyplot as plt\n",
    "pd.set_option('display.width', 800)\n",
    "pd.set_option('display.max_columns', 100)\n",
    "pd.set_option('display.notebook_repr_html', True)"
   ]
  },
  {
   "cell_type": "markdown",
   "metadata": {},
   "source": [
    "## Tripadvisor review data set"
   ]
  },
  {
   "cell_type": "code",
   "execution_count": 18,
   "metadata": {
    "collapsed": false
   },
   "outputs": [],
   "source": [
    "reviews = pd.read_csv('data/tripadvisor/hw4_data.csv')\n",
    "\n",
    "# remove reviews with empty review text\n",
    "reviews = reviews[~reviews.text.isnull()] "
   ]
  },
  {
   "cell_type": "markdown",
   "metadata": {},
   "source": [
    "| field | desc. |\n",
    "| --------- |-------------| \n",
    "| rating | user review rating to restaruant |\n",
    "| uid     | user unique id |\n",
    "| text    | user review text |\n",
    "| rtid    | restaurant unique id |\n",
    "| label |  if rating > 3, good. otherwise, bad |\n",
    "| rid     | review unique id |"
   ]
  },
  {
   "cell_type": "code",
   "execution_count": 19,
   "metadata": {
    "collapsed": false
   },
   "outputs": [
    {
     "data": {
      "text/html": [
       "<div>\n",
       "<table border=\"1\" class=\"dataframe\">\n",
       "  <thead>\n",
       "    <tr style=\"text-align: right;\">\n",
       "      <th></th>\n",
       "      <th>rating</th>\n",
       "      <th>uid</th>\n",
       "      <th>text</th>\n",
       "      <th>rtid</th>\n",
       "      <th>label</th>\n",
       "      <th>rid</th>\n",
       "    </tr>\n",
       "  </thead>\n",
       "  <tbody>\n",
       "    <tr>\n",
       "      <th>0</th>\n",
       "      <td>2</td>\n",
       "      <td>35B7E11E17F184C4EF4D41C746202ADF</td>\n",
       "      <td>Steak House really? Service is absolutely horr...</td>\n",
       "      <td>1</td>\n",
       "      <td>bad</td>\n",
       "      <td>295466028</td>\n",
       "    </tr>\n",
       "    <tr>\n",
       "      <th>1</th>\n",
       "      <td>2</td>\n",
       "      <td>7D369B992B8E698723432AC9156E6577</td>\n",
       "      <td>Food was not very good, little ambiance, music...</td>\n",
       "      <td>1</td>\n",
       "      <td>bad</td>\n",
       "      <td>209023118</td>\n",
       "    </tr>\n",
       "    <tr>\n",
       "      <th>2</th>\n",
       "      <td>2</td>\n",
       "      <td>DC5D9DB0F44B41E88414A387A1B16317</td>\n",
       "      <td>Food was good service was horrible. ..seating ...</td>\n",
       "      <td>1</td>\n",
       "      <td>bad</td>\n",
       "      <td>231376390</td>\n",
       "    </tr>\n",
       "    <tr>\n",
       "      <th>3</th>\n",
       "      <td>5</td>\n",
       "      <td>2E717E4CE1CDDEC2F8BE7AF9A61E5D9D</td>\n",
       "      <td>I have seen some negative reviews and I am not...</td>\n",
       "      <td>1</td>\n",
       "      <td>good</td>\n",
       "      <td>225374793</td>\n",
       "    </tr>\n",
       "    <tr>\n",
       "      <th>4</th>\n",
       "      <td>1</td>\n",
       "      <td>DAF5A94AE30E5CBFA06A3D5AA0BB46A4</td>\n",
       "      <td>As I had no car, I had no option but to eat he...</td>\n",
       "      <td>1</td>\n",
       "      <td>bad</td>\n",
       "      <td>179102128</td>\n",
       "    </tr>\n",
       "  </tbody>\n",
       "</table>\n",
       "</div>"
      ],
      "text/plain": [
       "   rating                               uid                                               text  rtid label        rid\n",
       "0       2  35B7E11E17F184C4EF4D41C746202ADF  Steak House really? Service is absolutely horr...     1   bad  295466028\n",
       "1       2  7D369B992B8E698723432AC9156E6577  Food was not very good, little ambiance, music...     1   bad  209023118\n",
       "2       2  DC5D9DB0F44B41E88414A387A1B16317  Food was good service was horrible. ..seating ...     1   bad  231376390\n",
       "3       5  2E717E4CE1CDDEC2F8BE7AF9A61E5D9D  I have seen some negative reviews and I am not...     1  good  225374793\n",
       "4       1  DAF5A94AE30E5CBFA06A3D5AA0BB46A4  As I had no car, I had no option but to eat he...     1   bad  179102128"
      ]
     },
     "execution_count": 19,
     "metadata": {},
     "output_type": "execute_result"
    }
   ],
   "source": [
    "reviews.head()"
   ]
  },
  {
   "cell_type": "markdown",
   "metadata": {},
   "source": [
    "### Data Statistics"
   ]
  },
  {
   "cell_type": "code",
   "execution_count": 20,
   "metadata": {
    "collapsed": false
   },
   "outputs": [
    {
     "name": "stdout",
     "output_type": "stream",
     "text": [
      "Number of rows: 12772\n",
      "Number of reviews: 12762\n",
      "Number of restaurants: 1254\n",
      "Number of users: 9130\n",
      "\n",
      "\n",
      "Number of 'good' label: 70410\n",
      "Number of 'bad'   label: 6222\n"
     ]
    }
   ],
   "source": [
    "n_row = len(reviews)\n",
    "n_reviews = reviews.rid.unique().size\n",
    "n_restaurants = reviews.rtid.unique().size\n",
    "n_users = reviews.uid.unique().size\n",
    "n_good = reviews[reviews.label == 'good'].size\n",
    "n_bad = reviews[reviews.label == 'bad'].size\n",
    "\n",
    "print \"Number of rows: %i\" % n_row\n",
    "print \"Number of reviews: %i\" % n_reviews\n",
    "print \"Number of restaurants: %i\" % n_restaurants\n",
    "print \"Number of users: %i\\n\\n\" % n_users\n",
    "print \"Number of 'good' label: %i\" % n_good\n",
    "print \"Number of 'bad'   label: %i\" % n_bad"
   ]
  },
  {
   "cell_type": "code",
   "execution_count": 21,
   "metadata": {
    "collapsed": false
   },
   "outputs": [
    {
     "data": {
      "text/plain": [
       "<matplotlib.text.Text at 0x7f0a438beed0>"
      ]
     },
     "execution_count": 21,
     "metadata": {},
     "output_type": "execute_result"
    },
    {
     "data": {
      "image/png": "[encoded data removed]",
      "text/plain": [
       "<matplotlib.figure.Figure at 0x7f0a4436b250>"
      ]
     },
     "metadata": {},
     "output_type": "display_data"
    }
   ],
   "source": [
    "# deep copy 'reviews' data frame \n",
    "df = reviews.copy()\n",
    "df['good'] = df.label == 'good'\n",
    "\n",
    "# group by user id\n",
    "grp = df.groupby('uid')\n",
    "counts = grp.uid.count()\n",
    "means = grp.good.mean()\n",
    "\n",
    "means[counts > 5 ].hist(bins=20, edgecolor='w', lw=1, color='k', alpha=0.5)\n",
    "plt.xlabel(\"Average rating per users\")\n",
    "plt.ylabel(\"N\")"
   ]
  },
  {
   "cell_type": "markdown",
   "metadata": {},
   "source": [
    "## The vector space model"
   ]
  },
  {
   "cell_type": "markdown",
   "metadata": {},
   "source": [
    "If you passed the information retrieval course, you already know what VSM (vector space model) is.\n",
    "\n",
    "Otherwise, please read below description.\n",
    "\n",
    "----------------------------\n",
    "\n",
    "__reference : [Stanford IR-book](http://nlp.stanford.edu/IR-book/)__\n",
    "\n",
    "Let us define the vector derived from document d by $\\bar V(d)$. What does this mean? Each document is considered to be a vector made up from a vocabulary, where there is one axis for each term in the vocabulary.\n",
    "\n",
    "To define the vocabulary, we take a union of all words we have seen in all documents. We then just associate an array index with them. So \"hello\" may be at index 5 and \"world\" at index 99.\n",
    "\n",
    "Then the document\n",
    "\n",
    "\"hello world world\"\n",
    "\n",
    "would be indexed as\n",
    "\n",
    "`[(5,1),(99,2)]`\n",
    "\n",
    "along with a dictionary\n",
    "\n",
    "``\n",
    "5: Hello\n",
    "99: World\n",
    "``\n",
    "\n",
    "so that you can see that our representation is one of a sparse array.\n",
    "\n",
    "Then, a set of documents becomes, in the usual `sklearn` style, a sparse matrix with rows being sparse arrays and columns \"being\" the features, ie the vocabulary. I put \"being\" in quites as the layout in memort is that of a matrix with many 0's, but, rather, we use the sparse representation we talked about above.\n",
    "\n",
    "Notice that this representation loses the relative ordering of the terms in the document. That is \"cat ate rat\" and \"rat ate cat\" are the same. Thus, this representation is also known as the Bag-Of-Words representation.\n",
    "\n",
    "Here is another example, from the book quoted above, although the matrix is transposed here so that documents are columns:\n",
    "\n",
    "![novel terms](img/hw4/terms.png)\n",
    "\n",
    "Such a matrix is also catted a Term-Document Matrix. Here, the terms being indexed could be stemmed before indexing; for instance, jealous and jealousy after stemming are the same feature. One could also make use of other \"Natural Language Processing\" transformations in constructing the vocabulary. We could use Lemmatization, which reduces words to lemmas: work, working, worked would all reduce to work. We could remove \"stopwords\" from our vocabulary, such as common words like \"the\". We could look for particular parts of speech, such as adjectives. This is often done in Sentiment Analysis. And so on. It all deoends on our application.\n",
    "\n",
    "From the book:\n",
    ">The standard way of quantifying the similarity between two documents $d_1$ and $d_2$  is to compute the cosine similarity of their vector representations $\\bar V(d_1)$ and $\\bar V(d_2)$:\n",
    "\n",
    "$$S_{12} = \\frac{\\bar V(d_1) \\cdot \\bar V(d_2)}{|\\bar V(d_1)| \\times |\\bar V(d_2)|}$$\n",
    "\n",
    "![Vector Space Model](img/hw4/vsm.png)\n",
    "\n",
    "\n",
    ">There is a far more compelling reason to represent documents as vectors: we can also view a query as a vector. Consider the query q = jealous gossip. This query turns into the unit vector $\\bar V(q)$ = (0, 0.707, 0.707) on the three coordinates below. \n",
    "\n",
    "![novel terms](img/hw4/terms2.png)\n",
    "\n",
    ">The key idea now: to assign to each document d a score equal to the dot product:\n",
    "\n",
    "$$\\bar V(q) \\cdot \\bar V(d)$$\n",
    "\n",
    "This we can use this simple Vector Model as a Search engine or text analysis."
   ]
  },
  {
   "cell_type": "markdown",
   "metadata": {},
   "source": [
    "### code example"
   ]
  },
  {
   "cell_type": "code",
   "execution_count": 22,
   "metadata": {
    "collapsed": false
   },
   "outputs": [
    {
     "name": "stdout",
     "output_type": "stream",
     "text": [
      "# Original text is \n",
      "This is the first sentence.\n",
      "Creating BOW step by step.\n",
      "This is the last sentence.\n",
      "# Word Vector\n",
      "  (0, 3)\t1\n",
      "  (0, 4)\t1\n",
      "  (0, 6)\t1\n",
      "  (0, 8)\t1\n",
      "  (0, 9)\t1\n",
      "  (1, 0)\t1\n",
      "  (1, 1)\t1\n",
      "  (1, 2)\t1\n",
      "  (1, 7)\t2\n",
      "  (2, 4)\t1\n",
      "  (2, 5)\t1\n",
      "  (2, 6)\t1\n",
      "  (2, 8)\t1\n",
      "  (2, 9)\t1\n"
     ]
    },
    {
     "data": {
      "text/html": [
       "<div>\n",
       "<table border=\"1\" class=\"dataframe\">\n",
       "  <thead>\n",
       "    <tr style=\"text-align: right;\">\n",
       "      <th></th>\n",
       "      <th>bow</th>\n",
       "      <th>by</th>\n",
       "      <th>creating</th>\n",
       "      <th>first</th>\n",
       "      <th>is</th>\n",
       "      <th>last</th>\n",
       "      <th>sentence</th>\n",
       "      <th>step</th>\n",
       "      <th>the</th>\n",
       "      <th>this</th>\n",
       "    </tr>\n",
       "  </thead>\n",
       "  <tbody>\n",
       "    <tr>\n",
       "      <th>0</th>\n",
       "      <td>0</td>\n",
       "      <td>0</td>\n",
       "      <td>0</td>\n",
       "      <td>1</td>\n",
       "      <td>1</td>\n",
       "      <td>0</td>\n",
       "      <td>1</td>\n",
       "      <td>0</td>\n",
       "      <td>1</td>\n",
       "      <td>1</td>\n",
       "    </tr>\n",
       "    <tr>\n",
       "      <th>1</th>\n",
       "      <td>1</td>\n",
       "      <td>1</td>\n",
       "      <td>1</td>\n",
       "      <td>0</td>\n",
       "      <td>0</td>\n",
       "      <td>0</td>\n",
       "      <td>0</td>\n",
       "      <td>2</td>\n",
       "      <td>0</td>\n",
       "      <td>0</td>\n",
       "    </tr>\n",
       "    <tr>\n",
       "      <th>2</th>\n",
       "      <td>0</td>\n",
       "      <td>0</td>\n",
       "      <td>0</td>\n",
       "      <td>0</td>\n",
       "      <td>1</td>\n",
       "      <td>1</td>\n",
       "      <td>1</td>\n",
       "      <td>0</td>\n",
       "      <td>1</td>\n",
       "      <td>1</td>\n",
       "    </tr>\n",
       "  </tbody>\n",
       "</table>\n",
       "</div>"
      ],
      "text/plain": [
       "   bow  by  creating  first  is  last  sentence  step  the  this\n",
       "0    0   0         0      1   1     0         1     0    1     1\n",
       "1    1   1         1      0   0     0         0     2    0     0\n",
       "2    0   0         0      0   1     1         1     0    1     1"
      ]
     },
     "execution_count": 22,
     "metadata": {},
     "output_type": "execute_result"
    }
   ],
   "source": [
    "from sklearn.feature_extraction.text import CountVectorizer\n",
    "\n",
    "example_doc = [\n",
    "    'This is the first sentence.',\n",
    "    'Creating BOW step by step.',\n",
    "    'This is the last sentence.'\n",
    "]\n",
    "\n",
    "print '# Original text is \\n', '\\n'.join(example_doc)\n",
    "\n",
    "vectorizer = CountVectorizer(min_df=0)\n",
    "\n",
    "vectorizer.fit(example_doc)\n",
    "x = vectorizer.transform(example_doc)\n",
    "print '# Word Vector\\n', x\n",
    "\n",
    "bow = x.toarray()\n",
    "\n",
    "bow_df = pd.DataFrame(bow, columns=vectorizer.get_feature_names())\n",
    "bow_df"
   ]
  },
  {
   "cell_type": "code",
   "execution_count": 23,
   "metadata": {
    "collapsed": false
   },
   "outputs": [],
   "source": [
    "def make_xy(reviews, vectorizer=None):\n",
    "    #Your code here    \n",
    "    if vectorizer is None:\n",
    "        vectorizer = CountVectorizer()\n",
    "    X = vectorizer.fit_transform(reviews.text)\n",
    "    X = X.tocsc()  # some versions of sklearn return COO format\n",
    "    y = (reviews.label == 'good').values.astype(np.int)\n",
    "    return X, y\n",
    "\n",
    "X, y = make_xy(reviews)"
   ]
  },
  {
   "cell_type": "markdown",
   "metadata": {},
   "source": [
    "## Naive Bayes"
   ]
  },
  {
   "cell_type": "markdown",
   "metadata": {},
   "source": [
    "We already used Naive Bayes classifier in HW2.\n",
    "\n",
    "But it was not discussed in the course and homework.\n",
    "\n",
    "Let's learn more about the Naive Bayes.\n",
    "\n",
    "\n",
    "\n",
    "$$P(c|d) \\propto P(d|c) P(c) $$\n",
    "\n",
    "$$P(d|c)  = \\prod_k P(t_k | c) $$\n",
    "\n",
    "the conditional independence assumption.\n",
    "\n",
    "Then we see that for which c is $P(c|d)$ higher.\n",
    "\n",
    "For floating point underflow we change the product into a sum by going into log space. So:\n",
    "\n",
    "$$log(P(d|c))  = \\sum_k log (P(t_k | c)) $$\n",
    "\n",
    "But we must also handle non-existent terms, we cant have 0's for them:\n",
    "\n",
    "$$P(t_k|c) = \\frac{N_{kc}+\\alpha}{N_c+\\alpha N_{feat}}$$"
   ]
  },
  {
   "cell_type": "code",
   "execution_count": 24,
   "metadata": {
    "collapsed": false
   },
   "outputs": [
    {
     "name": "stdout",
     "output_type": "stream",
     "text": [
      "MN Accuracy: 94.71%\n"
     ]
    }
   ],
   "source": [
    "from sklearn.naive_bayes import MultinomialNB\n",
    "from sklearn.cross_validation import train_test_split\n",
    "xtrain, xtest, ytrain, ytest = train_test_split(X, y)\n",
    "clf = MultinomialNB().fit(xtrain, ytrain)\n",
    "print \"MN Accuracy: %0.2f%%\" % (100 * clf.score(xtest, ytest))"
   ]
  },
  {
   "cell_type": "code",
   "execution_count": 25,
   "metadata": {
    "collapsed": false
   },
   "outputs": [
    {
     "name": "stdout",
     "output_type": "stream",
     "text": [
      "Accuracy on training data: 0.965132\n",
      "Accuracy on test data:     0.947072\n"
     ]
    }
   ],
   "source": [
    "training_accuracy = clf.score(xtrain, ytrain)\n",
    "test_accuracy = clf.score(xtest, ytest)\n",
    "\n",
    "print \"Accuracy on training data: %f\" % (training_accuracy)\n",
    "print \"Accuracy on test data:     %f\" % (test_accuracy)"
   ]
  },
  {
   "cell_type": "markdown",
   "metadata": {},
   "source": [
    "This model seemed to work find. But we didn't determine the parameters of the model. Through Corss-Validation, let's set the parameter."
   ]
  },
  {
   "cell_type": "markdown",
   "metadata": {},
   "source": [
    "### Cross-Validation and hyper-parameter fitting"
   ]
  },
  {
   "cell_type": "markdown",
   "metadata": {},
   "source": [
    "We use [KFold]](http://scikit-learn.org/stable/modules/generated/sklearn.cross_validation.KFold.html) here as we will want to also set parameters in the CountVectorizer.\n",
    "\n",
    "You can also use an [GridSearchCV](http://scikit-learn.org/stable/modules/generated/sklearn.grid_search.GridSearchCV.html) in addition to `KFold`"
   ]
  },
  {
   "cell_type": "code",
   "execution_count": 26,
   "metadata": {
    "collapsed": true
   },
   "outputs": [],
   "source": [
    "from sklearn.cross_validation import KFold\n",
    "def cv_score(clf, X, y, scorefunc):\n",
    "    result = 0.\n",
    "    nfold = 5\n",
    "    for train, test in KFold(y.size, nfold): # split data into train/test groups, 5 times\n",
    "        clf.fit(X[train], y[train]) # fit\n",
    "        result += scorefunc(clf, X[test], y[test]) # evaluate score function on held-out data\n",
    "    return result / nfold # average"
   ]
  },
  {
   "cell_type": "markdown",
   "metadata": {},
   "source": [
    "We use the log-[likelihood](https://en.wikipedia.org/wiki/Likelihood_function) as the score here. \n",
    "\n",
    "Since Naive Bayes classifiers are often used in asymmetric situations, it might help to actually maximize probability on the validation folds rather than just accuracy.\n",
    "\n",
    "Notice something else about using a custom score function. It allows us to do a lot of the choices with the Decision risk we care about (-profit for example) directly on the validation set, rather than comparing ROC curves on the test set. You will often find people using `roc_auc`, precision, recall, or `F1-score` as risks or scores."
   ]
  },
  {
   "cell_type": "code",
   "execution_count": 27,
   "metadata": {
    "collapsed": true
   },
   "outputs": [],
   "source": [
    "def log_likelihood(clf, x, y):\n",
    "    prob = clf.predict_log_proba(x)\n",
    "    bad = y == 0\n",
    "    good = ~bad\n",
    "    \n",
    "    return prob[bad, 0].sum() + prob[good, 1].sum()"
   ]
  },
  {
   "cell_type": "markdown",
   "metadata": {},
   "source": [
    "We'll cross-validate over the regularization parameter $\\alpha$ and the `min_df` of the `CountVectorizer`.\n",
    "\n",
    ">min_df: When building the vocabulary ignore terms that have a document frequency strictly lower than the given threshold. This value is also called cut-off in the literature. If float, the parameter represents a proportion of documents, integer absolute counts. This parameter is ignored if vocabulary is not None.\n",
    ">\n",
    "> [reference : http://scikit-learn.org/stable/modules/generated/sklearn.feature_extraction.text.CountVectorizer.html ]"
   ]
  },
  {
   "cell_type": "markdown",
   "metadata": {},
   "source": [
    "Lets set up the train and test masks first:"
   ]
  },
  {
   "cell_type": "code",
   "execution_count": 28,
   "metadata": {
    "collapsed": false
   },
   "outputs": [],
   "source": [
    "from sklearn.cross_validation import train_test_split\n",
    "itrain, itest = train_test_split(xrange(reviews.shape[0]), train_size=0.7)\n",
    "mask=np.ones(reviews.shape[0], dtype='int')\n",
    "mask[itrain]=1\n",
    "mask[itest]=0\n",
    "mask = (mask==1)"
   ]
  },
  {
   "cell_type": "code",
   "execution_count": 50,
   "metadata": {
    "collapsed": true
   },
   "outputs": [],
   "source": [
    "#the grid of parameters to search over\n",
    "alphas = [0, .1, 1, 5, 10, 50]\n",
    "min_dfs = [1e-5, 1e-4, 1e-3]"
   ]
  },
  {
   "cell_type": "code",
   "execution_count": 51,
   "metadata": {
    "collapsed": false
   },
   "outputs": [
    {
     "name": "stdout",
     "output_type": "stream",
     "text": [
      "alpha: 0.000000 \t dfs: 0.000010\t cv score: nan\n",
      "alpha: 0.000000 \t dfs: 0.000100\t cv score: nan\n",
      "alpha: 0.000000 \t dfs: 0.001000\t cv score: nan\n",
      "alpha: 0.100000 \t dfs: 0.000010\t cv score: -607.695284\n",
      "alpha: 0.100000 \t dfs: 0.000100\t cv score: -550.038243\n",
      "alpha: 0.100000 \t dfs: 0.001000\t cv score: -523.908639\n",
      "alpha: 1.000000 \t dfs: 0.000010\t cv score: -743.711729\n",
      "alpha: 1.000000 \t dfs: 0.000100\t cv score: -521.700949\n",
      "alpha: 1.000000 \t dfs: 0.001000\t cv score: -538.672770\n",
      "alpha: 5.000000 \t dfs: 0.000010\t cv score: -4809.736083\n",
      "alpha: 5.000000 \t dfs: 0.000100\t cv score: -2371.185921\n",
      "alpha: 5.000000 \t dfs: 0.001000\t cv score: -494.408308\n",
      "alpha: 10.000000 \t dfs: 0.000010\t cv score: -7308.914015\n",
      "alpha: 10.000000 \t dfs: 0.000100\t cv score: -4617.560370\n",
      "alpha: 10.000000 \t dfs: 0.001000\t cv score: -891.518220\n",
      "alpha: 50.000000 \t dfs: 0.000010\t cv score: -10384.870814\n",
      "alpha: 50.000000 \t dfs: 0.000100\t cv score: -8787.633035\n",
      "alpha: 50.000000 \t dfs: 0.001000\t cv score: -4609.513782\n"
     ]
    }
   ],
   "source": [
    "#Find the best value for alpha and min_df, and the best classifier\n",
    "best_alpha = None\n",
    "best_min_df = None\n",
    "maxscore=-np.inf\n",
    "for alpha in alphas:\n",
    "    for min_df in min_dfs:         \n",
    "        vectorizer = CountVectorizer(min_df = min_df)       \n",
    "        Xthis, ythis = make_xy(reviews, vectorizer)\n",
    "        Xtrainthis=Xthis[mask]\n",
    "        ytrainthis=ythis[mask]\n",
    "        clf = MultinomialNB(alpha=alpha)\n",
    "        cvscore = cv_score(clf, Xtrainthis, ytrainthis, log_likelihood)\n",
    "        print \"alpha: %f \\t dfs: %f\\t cv score: %f\" % (alpha, min_df, cvscore)\n",
    "\n",
    "        if cvscore > maxscore:\n",
    "            maxscore = cvscore\n",
    "            best_alpha, best_min_df = alpha, min_df"
   ]
  },
  {
   "cell_type": "code",
   "execution_count": 52,
   "metadata": {
    "collapsed": false
   },
   "outputs": [
    {
     "name": "stdout",
     "output_type": "stream",
     "text": [
      "best alpha: 5.000000\n",
      "best min_df: 0.001000\n"
     ]
    }
   ],
   "source": [
    "print \"best alpha: %f\" % best_alpha\n",
    "print \"best min_df: %f\" % best_min_df"
   ]
  },
  {
   "cell_type": "markdown",
   "metadata": {},
   "source": [
    "### Work with the best params"
   ]
  },
  {
   "cell_type": "code",
   "execution_count": 53,
   "metadata": {
    "collapsed": false
   },
   "outputs": [
    {
     "name": "stdout",
     "output_type": "stream",
     "text": [
      "Accuracy on training data: 0.952908\n",
      "Accuracy on test data:     0.942328\n"
     ]
    }
   ],
   "source": [
    "vectorizer = CountVectorizer(min_df=best_min_df)\n",
    "X, y = make_xy(reviews, vectorizer)\n",
    "xtrain=X[mask]\n",
    "ytrain=y[mask]\n",
    "xtest=X[~mask]\n",
    "ytest=y[~mask]\n",
    "\n",
    "clf = MultinomialNB(alpha=best_alpha).fit(xtrain, ytrain)\n",
    "\n",
    "# Your code here. Print the accuracy on the test and training dataset\n",
    "training_accuracy = clf.score(xtrain, ytrain)\n",
    "test_accuracy = clf.score(xtest, ytest)\n",
    "\n",
    "print \"Accuracy on training data: %f\" % (training_accuracy)\n",
    "print \"Accuracy on test data:     %f\" % (test_accuracy)"
   ]
  },
  {
   "cell_type": "markdown",
   "metadata": {},
   "source": [
    "## Interpretation"
   ]
  },
  {
   "cell_type": "markdown",
   "metadata": {},
   "source": [
    "What are the strongly predictive features?"
   ]
  },
  {
   "cell_type": "code",
   "execution_count": 54,
   "metadata": {
    "collapsed": false
   },
   "outputs": [
    {
     "name": "stdout",
     "output_type": "stream",
     "text": [
      "Top 20 informative words \t     P(good | word)\n",
      "           excellent 0.99\n",
      "           delicious 0.99\n",
      "           wonderful 0.99\n",
      "                tour 0.99\n",
      "               great 0.99\n",
      "               yummy 0.99\n",
      "             awesome 0.99\n",
      "             enjoyed 0.98\n",
      "             amazing 0.98\n",
      "             parking 0.98\n",
      "            favorite 0.98\n",
      "                love 0.98\n",
      "              always 0.98\n",
      "               loved 0.98\n",
      "           fantastic 0.98\n",
      "             falafel 0.98\n",
      "                 fun 0.98\n",
      "                must 0.98\n",
      "               tasty 0.98\n",
      "             perfect 0.98\n",
      "---------------------------------------------------------\n",
      "Bottom 20 informative words\t     P(good | word)\n",
      "              lacked 0.50\n",
      "             charged 0.49\n",
      "                 tab 0.48\n",
      "               stale 0.48\n",
      "             telling 0.48\n",
      "          overcooked 0.47\n",
      "            horrible 0.46\n",
      "             manager 0.46\n",
      "             mistake 0.46\n",
      "            mediocre 0.45\n",
      "               worst 0.43\n",
      "          complained 0.41\n",
      "               worse 0.41\n",
      "                rude 0.40\n",
      "               waste 0.40\n",
      "            inedible 0.37\n",
      "                poor 0.37\n",
      "            terrible 0.36\n",
      "           tasteless 0.33\n",
      "               awful 0.31\n"
     ]
    }
   ],
   "source": [
    "words = np.array(vectorizer.get_feature_names())\n",
    "\n",
    "x = np.eye(xtest.shape[1])\n",
    "probs = clf.predict_log_proba(x)[:, 0]\n",
    "ind = np.argsort(probs)\n",
    "\n",
    "good_words = words[ind[:20]]\n",
    "bad_words = words[ind[-20:]]\n",
    "\n",
    "good_prob = probs[ind[:20]]\n",
    "bad_prob = probs[ind[-20:]]\n",
    "\n",
    "print \"Top 20 informative words \\t     P(good | word)\"\n",
    "for w, p in zip(good_words, good_prob):\n",
    "    print \"%20s\" % w, \"%0.2f\" % (1 - np.exp(p))\n",
    "    \n",
    "print \"---------------------------------------------------------\"\n",
    "print \"Bottom 20 informative words\\t     P(good | word)\"\n",
    "for w, p in zip(bad_words, bad_prob):\n",
    "    print \"%20s\" % w, \"%0.2f\" % (1 - np.exp(p))"
   ]
  },
  {
   "cell_type": "markdown",
   "metadata": {},
   "source": [
    "# Problem1\n",
    "\n",
    "Do you think the informatvie words is reasonable to classify user reviews?\n",
    "\n",
    "Write your opinion and briefly expalen.\n",
    "\n",
    "__Answers__: _Write your answer here_"
   ]
  },
  {
   "cell_type": "code",
   "execution_count": 92,
   "metadata": {
    "collapsed": false
   },
   "outputs": [
    {
     "name": "stdout",
     "output_type": "stream",
     "text": [
      "Mis-predicted bad reviews\n",
      "---------------------------\n",
      "Always tasty food and great bar serves!Bravo! Hubby had chicken piccata with a spot on lemon/caper sauce while I indulged in a penne al forno with rich mushroom/meat sauce. Service always spot on. Old school atmosphere. Sometimes a wait at desirable dinning hours but quickly forgotten with exceptional lounge service.\n",
      "\n",
      "Went there for lunch and was very disappointed. My friend and I ordered risotto and crab ravioli and their signature meat place as appetizer. The meat plate was pretty good, but way to expensive - $22 for sliced meat and cheese. My crab raviolis were pretty good, I really enjoyed but portion was again way to small for the price. Risotto was a real disaster, it didn't have any flavor and I can do better job home using one of those modern rice cookers with risotto option. Location is really good, I've enjoyed sitting outside and watching people. But I don't think I'm coming back. This place is too touristy and price for the food and service they provide.\n",
      "\n",
      "We tried this a couple of times and I'll admit that it has been a while since I've been there- I'll never go back, but others have only confirmed my first impressions- this is not *good* italian food. The pasta is not al dente or very good- and it is a PASTA shop. The sauces are sugary and lack flavor. It is far from authentic. I am bias, my wife's family comes from Tuscany and I've had great sugos from Lucca, Pisa, Florence, Siena, and many other Italian cities. The farthest south I've gone is Rome which I can't remember the sugo, but I know it was better than Di Puccio's sugo which is probably best to be called a sauce- an American sauce. Frankly I like Ragu or Prego better.\n",
      "\n",
      "Have eaten here a couple times in the last few months. We like the food but its hard to come back with the bad service and noisy atmosphere. Their bread and pesto dip is soooo good, but guess what you have to bug the servers to bring it to you. Did you want more? I had to get out of my chair each time because they never checked on us. You would think they would push one of their best offerings.... The food: Is good and flavorful. I have had a few different dishes that were really good. Tip: Try the backed rigatoni. Its not on the menu anymore Atmosphere: If you go at any time that its busy its hard to hear. I would say its best to get this food to go\n",
      "\n",
      "The best kebabs in town! The salmon kebabs are beyond delicious and be sure to ask what the daily specials are, you can't go wrong! This place has great cardamom tea and exotic Persian desserts that'll knock your socks off! It's a small but clean restaurant with friendly waitresses. It's a funky little building in an old strip mall but don't let that stop you, the food is fabulous!\n",
      "\n",
      "Mis-predicted good reviews\n",
      "--------------------------\n",
      "All San Jose and the surrounding areas applaud the owner of the recently closed Blank Club for taking over this location which has stood unoccupied for several years. I found the ticket prices to be reasonable, the club clean and in a decent area of town, and working to get themselves up and running. Was there the 2nd night of their being open for business, to see Rev. Horton Heat - on their national tour. The club owner is extremely competent and knows how to run a popular and welcoming venue, as he did historically with the Blank Club. This new venue is larger but seems exactly as intimate - what struck me as extremely advantageous was the overhead music between acts was NOT ear shattering and repulsive - how many times have I run into THAT over the years elsewhere! It was a delightful mix of vintage 60's-80's \"Nugget\" style rock - from bands less played but with definite cult followings. I found it difficult to head down the street 2 blocks to dine at Original Joe's as I HONESTLY could not BEAR to miss any songs played during the \"intermissions\" - who ever heard of such a thing - NOT ME! Normally I arrive as late as humanly possible to avoid the ear splitting terrible music that has nothing to do with what I am there to see - they however went out of their way to make this well thought out and a feature to be able to enjoy the music the whole duration of the evening! BRAVO. The staff was extremely helpful and friendly - only one individual who seemed paranoid that the city would give them problems as they hadn't yet obtained their liquor license that night - that's how new they are ~ was abrupt and treated me as though I was some interloper to be questioned when requesting my special all access pass the band had provided for me. He was NOT friendly in his \"questioning\" me and my first thought was NEVER AGAIN!!!!! However the rest of the staff came to my rescue and sought out the band's manager - cleared everything - and I was treated like royalty from there on out - exceptional service. In fact, I felt the bartenders, and other staff and security were STELLAR. Although the club could use at least a FEW chairs around the perimeter who may not wish to stand all night, that can be adjusted later as they proceed with opening the club. FABULOUS sight lines, cleanliness and location all plusses and again, the venue is desperately needed and can hold more than the Blank Club did without selling out immediately for a known act such as this. I WILL BE BACK ON MANY OCCASIONS!\n",
      "\n",
      "All San Jose and the surrounding areas applaud the owner of the recently closed Blank Club for taking over this location which has stood unoccupied for several years. I found the ticket prices to be reasonable, the club clean and in a decent area of town, and working to get themselves up and running. Was there the 2nd night of their being open for business, to see Rev. Horton Heat - on their national tour. The club owner is extremely competent and knows how to run a popular and welcoming venue, as he did historically with the Blank Club. This new venue is larger but seems exactly as intimate - what struck me as extremely advantageous was the overhead music between acts was NOT ear shattering and repulsive - how many times have I run into THAT over the years elsewhere! It was a delightful mix of vintage 60's-80's \"Nugget\" style rock - from bands less played but with definite cult followings. I found it difficult to head down the street 2 blocks to dine at Original Joe's as I HONESTLY could not BEAR to miss any songs played during the \"intermissions\" - who ever heard of such a thing - NOT ME! Normally I arrive as late as humanly possible to avoid the ear splitting terrible music that has nothing to do with what I am there to see - they however went out of their way to make this well thought out and a feature to be able to enjoy the music the whole duration of the evening! BRAVO. The staff was extremely helpful and friendly - only one individual who seemed paranoid that the city would give them problems as they hadn't yet obtained their liquor license that night - that's how new they are ~ was abrupt and treated me as though I was some interloper to be questioned when requesting my special all access pass the band had provided for me. He was NOT friendly in his \"questioning\" me and my first thought was NEVER AGAIN!!!!! However the rest of the staff came to my rescue and sought out the band's manager - cleared everything - and I was treated like royalty from there on out - exceptional service. In fact, I felt the bartenders, and other staff and security were STELLAR. Although the club could use at least a FEW chairs around the perimeter who may not wish to stand all night, that can be adjusted later as they proceed with opening the club. FABULOUS sight lines, cleanliness and location all plusses and again, the venue is desperately needed and can hold more than the Blank Club did without selling out immediately for a known act such as this. I WILL BE BACK ON MANY OCCASIONS!\n",
      "\n",
      "Feb 18, 2013, I decided to stop in before noon just to check out this brand new restaurant/sports bar that opened up in my area. As soon as I walked in I was greeted with a high five from a young man at desk while everyone else greeted me too. I told them i just wanted to walk around and they told me anything I need just ask. I walked around and decided to sit down to try out some wings after a very nice young man named Mitchell Sharpiro I think thats the name he gave me told me about a daily special for .50 cent wings. I decided to move to bar area to watch one of the dozens of large television sand play an interactive Texas Hold Em card game on big screen. I was immediately helped by two gentleman names I forgot, so sorry. I never have eaten at a Buffalo Wild Wings so I asked for a recomendation on flavor of sauces. I had a drink special with chicken wings and a Asian sauce and blue cheese sauce which were both great. Thumbs up to the management and to the many workers who did a great job making this a cheerful place. I know I will be back with all my friends and family. To bad I didn't know about the free wings for a year as I would have tried to be there! See you there soon. Paul G\n",
      "\n",
      "Went for dinner; were seated quickly and the waiter was very pleasant; I requested the gluten free pasta and basically told him to have the chef prepare whatever he could do with shrimps. The past is good, portions are good size and service prompt. The waiter comes up and starts picking up my mother's plate; she had not finished and her plate was still fairly full; I told him she did not finish and asked him not to pick up the other plates at the table. I truly said it very nicely and with a soft voice; I think he got upset because he was nowhere to be seen. I asked for the check which somebody else brought it and then literally waited for 10 minutes and nobody came to pick it up. Went to the front to pay and ALL the servers were watching a soccer game in the bar area. The worst part was the the owner was in the restaurant and even the manager was watching TV. The place is not cheap; I think it has good value but somebody needs to watch over the staff. I get that there is an important soccer game but I don't stop my business because I want to watch the news or want to chit chat. Not sure if I would go back.\n",
      "\n",
      "Food is good, no doubt on that, however, I ordered the Asparagus & Prawn salad, it was missing it's sunflower seeds, pea shoots & mint. Also, a slice of radish still had the root on it; when I brought this to the waiter's attention, he made light of it saying it was a healthy restaurant, as if eating the root was a positive thing. The wait staff seems to need better training, when the waiter brought my cocktail, he spilled it when he put it on the table, and didn't notice; didn't bring cocktail napkins. Ended up asking a bus boy if he could help with the spill, he was very accommodating, wanted to change the paper table cover, but I said just some cocktail napkins would be all right. My friend asked if there was something that could be put down on a part of the paper table cover that was flapping in the breeze ( we chose to sit out doors,) the bus boy began to pick up her butter dish, she told him she needed that, he ended up bringing another dish. Waiter brought our entree, but never checked back throughout our meal to see if there was anything else we wanted. We asked the bus boy for more bread, he must have told the waiter because immediately after, the waiter came to check on us. When the waiter brought the check he put it on top of one of the butter dishes which had butter in it. I would have liked the bus boy to receive the tip, he was more attentive and had a wanting to please attitude, we didn't feel that from the waiter. After, we both thought we shouldn't have left him as much as we did. This restaurant is independently owned, which I prefer to chains; has an extensive wine list. My cocktail was surprisingly small, guava juice with a sparkling wine; my friend's cocktail was better. No reason to go rushing back, there are plenty of other choices.\n",
      "\n"
     ]
    },
    {
     "name": "stderr",
     "output_type": "stream",
     "text": [
      "/usr/local/lib/python2.7/dist-packages/ipykernel-4.3.1-py2.7.egg/ipykernel/__main__.py:12: FutureWarning: irow(i) is deprecated. Please use .iloc[i] or .iat[i]\n",
      "/usr/local/lib/python2.7/dist-packages/ipykernel-4.3.1-py2.7.egg/ipykernel/__main__.py:18: FutureWarning: irow(i) is deprecated. Please use .iloc[i] or .iat[i]\n"
     ]
    }
   ],
   "source": [
    "x, y = make_xy(reviews, vectorizer)\n",
    "\n",
    "prob = clf.predict_proba(x)[:, 0]\n",
    "predict = clf.predict(x)\n",
    "\n",
    "miss_bad = np.argsort(prob[y == 0])[:5]\n",
    "miss_good = np.argsort(prob[y == 1])[-5:]\n",
    "\n",
    "print \"Mis-predicted bad reviews\"\n",
    "print '---------------------------'\n",
    "for row in miss_bad:\n",
    "    print reviews[y == 0].text.irow(row)\n",
    "    print\n",
    "\n",
    "print \"Mis-predicted good reviews\"\n",
    "print '--------------------------'\n",
    "for row in miss_good:\n",
    "    print reviews[y == 1].text.irow(row)\n",
    "    print"
   ]
  },
  {
   "cell_type": "code",
   "execution_count": 93,
   "metadata": {
    "collapsed": false
   },
   "outputs": [
    {
     "data": {
      "text/plain": [
       "array([[ 0.00202121,  0.99797879]])"
      ]
     },
     "execution_count": 93,
     "metadata": {},
     "output_type": "execute_result"
    }
   ],
   "source": [
    "clf.predict_proba(vectorizer.transform([\n",
    "            \"\"\"\n",
    "            Tartine is one of those bakeries that every raves about and \\\\\n",
    "            you\\'re supposed to have your socks knocked off every time you go there. \"\"\"]))"
   ]
  },
  {
   "cell_type": "markdown",
   "metadata": {},
   "source": [
    "# Problem 2\n",
    "\n",
    "We got the model for user review classification problmes.\n",
    "\n",
    "How to improve the accuracy of model?"
   ]
  },
  {
   "cell_type": "markdown",
   "metadata": {},
   "source": [
    "__Answers: __ _write your answer here_"
   ]
  },
  {
   "cell_type": "markdown",
   "metadata": {},
   "source": [
    "## Callibration"
   ]
  },
  {
   "cell_type": "markdown",
   "metadata": {},
   "source": [
    "Probabilistic models like the Naive Bayes classifier have the nice property that they compute probabilities of a particular classification -- the predict_proba and predict_log_proba methods of MultinomialNB compute these probabilities.\n",
    "\n",
    "You should always assess whether these probabilities are calibrated -- that is, whether a prediction made with a confidence of x% is correct approximately x% of the time.\n",
    "\n",
    "Let's make a plot to assess model calibration. Schematically, we want something like this:\n",
    "\n",
    "![callibration](img/hw4/callibration.png)\n",
    "\n",
    "In words, we want to:\n",
    "\n",
    "- Take a collection of examples, and compute the freshness probability for each using clf.predict_proba\n",
    "- Gather examples into bins of similar freshness probability (the diagram shows 5 groups -- you should use something closer to 20)\n",
    "- For each bin, count the number of examples in that bin, and compute the fraction of examples in the bin which are fresh\n",
    "- In the upper plot, graph the expected P(Fresh) (x axis) and observed freshness fraction (Y axis). Estimate the uncertainty in observed freshness fraction F via the equation \n",
    "\n",
    "$$\\sigma = \\sqrt{\\frac{F(1-F)}{N}}$$\n",
    "\n",
    "- Overplot the line y=x. This is the trend we would expect if the model is perfectly calibrated\n",
    "- In the lower plot, show the number of examples in each bin"
   ]
  },
  {
   "cell_type": "code",
   "execution_count": 55,
   "metadata": {
    "collapsed": true
   },
   "outputs": [],
   "source": [
    "def calibration_plot(clf, xtest, ytest):\n",
    "    prob = clf.predict_proba(xtest)[:, 1]\n",
    "    outcome = ytest\n",
    "    data = pd.DataFrame(dict(prob=prob, outcome=outcome))\n",
    "\n",
    "    #group outcomes into bins of similar probability\n",
    "    bins = np.linspace(0, 1, 20)\n",
    "    cuts = pd.cut(prob, bins)\n",
    "    binwidth = bins[1] - bins[0]\n",
    "    \n",
    "    #freshness ratio and number of examples in each bin\n",
    "    cal = data.groupby(cuts).outcome.agg(['mean', 'count'])\n",
    "    cal['pmid'] = (bins[:-1] + bins[1:]) / 2\n",
    "    cal['sig'] = np.sqrt(cal.pmid * (1 - cal.pmid) / cal['count'])\n",
    "        \n",
    "    #the calibration plot\n",
    "    ax = plt.subplot2grid((3, 1), (0, 0), rowspan=2)\n",
    "    p = plt.errorbar(cal.pmid, cal['mean'], cal['sig'])\n",
    "    plt.plot(cal.pmid, cal.pmid, linestyle='--', lw=1, color='k')\n",
    "    plt.ylabel(\"Empirical P(Good)\")\n",
    "    \n",
    "    #the distribution of P(fresh)\n",
    "    ax = plt.subplot2grid((3, 1), (2, 0), sharex=ax)\n",
    "    \n",
    "    plt.bar(left=cal.pmid - binwidth / 2, height=cal['count'],\n",
    "            width=.95 * (bins[1] - bins[0]),\n",
    "            fc=p[0].get_color())\n",
    "    \n",
    "    plt.xlabel(\"Predicted P(Good)\")\n",
    "    plt.ylabel(\"Number\")"
   ]
  },
  {
   "cell_type": "code",
   "execution_count": 56,
   "metadata": {
    "collapsed": false
   },
   "outputs": [
    {
     "data": {
      "image/png": "[encoded data removed]",
      "text/plain": [
       "<matplotlib.figure.Figure at 0x7f0a3c97ec90>"
      ]
     },
     "metadata": {},
     "output_type": "display_data"
    }
   ],
   "source": [
    "calibration_plot(clf, xtest, ytest)"
   ]
  },
  {
   "cell_type": "markdown",
   "metadata": {},
   "source": [
    "The model is still slightly over-confident when making low P(Fresh) predictions. However, the calibration plot shows the model is usually within 1 error bar of the expected performance where P(Fresh) >= 0.2. Finally, the model makes less-conclusive predictions on average -- the histogram in the calibration plot is more uniformly distributed, with fewer predictions clustered around P(Fresh) = 0 or 1.\n"
   ]
  },
  {
   "cell_type": "markdown",
   "metadata": {},
   "source": [
    "## To improve:"
   ]
  },
  {
   "cell_type": "markdown",
   "metadata": {},
   "source": [
    "There are many things worth trying. Some examples:\n",
    "\n",
    "- You could try to build a NB model where the features are word pairs instead of words. This would be smart enough to realize that \"not good\" and \"so good\" mean very different things. This technique doesn't scale very well, since these features are much more sparse (and hence harder to detect repeatable patterns within).\n",
    "- You could try a model besides NB, that would allow for interactions between words -- for example, a Random Forest classifier.\n",
    "- You could consider adding supplemental features -- information about genre, director, cast, etc.\n",
    "- You could build a visualization that prints word reviews, and visually encodes each word with size or color to indicate how that word contributes to P(Fresh). For example, really bad words could show up as big and red, good words as big and green, common words as small and grey, etc."
   ]
  },
  {
   "cell_type": "markdown",
   "metadata": {},
   "source": [
    "### Better features\n",
    "\n",
    "We could use TF-IDF instead. What is this? It stands for \n",
    "\n",
    "`Term-Frequency X Inverse Document Frequency`.\n",
    "\n",
    "In the standard `CountVectorizer` model above, we used just the term frequency in a document of words in our vocabulary. In TF-IDF, we weigh this term frequency by the inverse of its popularity in all document. For example, if the word \"movie\" showed up in all the documents, it would not have much predictive value. By weighing its counts by 1 divides by its overall frequency, we down-weight it. We can then use this tfidf weighted features as inputs to any classifier.\n",
    "\n",
    "__Note__: If you have a huge data corpus, don't use the implemented method(CounterVectorizer, TfidfVectorizer). "
   ]
  },
  {
   "cell_type": "code",
   "execution_count": 81,
   "metadata": {
    "collapsed": false
   },
   "outputs": [],
   "source": [
    "#http://scikit-learn.org/dev/modules/feature_extraction.html#text-feature-extraction\n",
    "#http://scikit-learn.org/dev/modules/classes.html#text-feature-extraction-ref\n",
    "from sklearn.feature_extraction.text import TfidfVectorizer\n",
    "tfidfvectorizer = TfidfVectorizer(min_df=1, stop_words='english')\n",
    "Xtfidf=tfidfvectorizer.fit_transform(reviews.text)"
   ]
  },
  {
   "cell_type": "code",
   "execution_count": 82,
   "metadata": {
    "collapsed": false
   },
   "outputs": [
    {
     "data": {
      "text/plain": [
       "array([[ 0.,  0.,  0., ...,  0.,  0.,  0.]])"
      ]
     },
     "execution_count": 82,
     "metadata": {},
     "output_type": "execute_result"
    }
   ],
   "source": [
    "Xtfidf[0].toarray()"
   ]
  },
  {
   "cell_type": "code",
   "execution_count": 83,
   "metadata": {
    "collapsed": false
   },
   "outputs": [
    {
     "data": {
      "text/plain": [
       "(100000, 64694)"
      ]
     },
     "execution_count": 83,
     "metadata": {},
     "output_type": "execute_result"
    }
   ],
   "source": [
    "Xtfidf.shape"
   ]
  },
  {
   "cell_type": "markdown",
   "metadata": {},
   "source": [
    "## Density estimation and Unsupervized learning\n",
    "\n",
    "$$\n",
    "\\renewcommand{\\like}{{\\cal L}}\n",
    "\\renewcommand{\\loglike}{{\\ell}}\n",
    "\\renewcommand{\\err}{{\\cal E}}\n",
    "\\renewcommand{\\dat}{{\\cal D}}\n",
    "\\renewcommand{\\hyp}{{\\cal H}}\n",
    "\\renewcommand{\\Ex}[2]{E_{#1}[#2]}\n",
    "\\renewcommand{\\x}{{\\mathbf x}}\n",
    "\\renewcommand{\\v}[1]{{\\mathbf #1}}\n",
    "$$\n",
    "\n",
    "The basic idea in unsupervised learning is to find a compact representation of the data $\\{\\v{x}_1, \\v{x}_2, ..., \\v{x}_n\\}$, whether these $\\v{x}$ come from a class conditional probability distribution like those for males or females, or from all the samples. In other words, we are trying to *estimate a feature distribution* in one case or the other. This is, of course the fundamental problem of statistics, the estimation of probability distributions from data. \n",
    "\n",
    "We saw an example of this where we used the maximum likelihood method in logistic regression. There we were trying to estimate $P(y|\\v{x}, \\v{w})$, a 1-D distribution in y, by finding the most appropriate parameters $\\v{w}$. Here we are trying to find some parametrization $\\theta_y$ for $P(x|y, \\theta_y)$ or $\\v{\\theta}$ in general for $P(x)$. \n",
    "\n",
    "But the basic method we will use remains the same: find the maximum likelihood, or, choose some probability distributions with parameters $\\v{\\theta}$, find the probability of each point of data if the data had come from this distribution, multiply these probabilities, and maximize the whole thing with respect to the parameters. (Equivalently we minimize the risk defined as the negative of the log-likelihood). \n",
    "\n",
    "Consider our heights and weights problem again. Suppose I did not tell you the labels: ie which samples were males and which samples were females. The data would then look like this:"
   ]
  },
  {
   "cell_type": "code",
   "execution_count": 57,
   "metadata": {
    "collapsed": false
   },
   "outputs": [
    {
     "data": {
      "text/html": [
       "<div>\n",
       "<table border=\"1\" class=\"dataframe\">\n",
       "  <thead>\n",
       "    <tr style=\"text-align: right;\">\n",
       "      <th></th>\n",
       "      <th>Gender</th>\n",
       "      <th>Height</th>\n",
       "      <th>Weight</th>\n",
       "    </tr>\n",
       "  </thead>\n",
       "  <tbody>\n",
       "    <tr>\n",
       "      <th>0</th>\n",
       "      <td>Male</td>\n",
       "      <td>73.847017</td>\n",
       "      <td>241.893563</td>\n",
       "    </tr>\n",
       "    <tr>\n",
       "      <th>1</th>\n",
       "      <td>Male</td>\n",
       "      <td>68.781904</td>\n",
       "      <td>162.310473</td>\n",
       "    </tr>\n",
       "    <tr>\n",
       "      <th>2</th>\n",
       "      <td>Male</td>\n",
       "      <td>74.110105</td>\n",
       "      <td>212.740856</td>\n",
       "    </tr>\n",
       "    <tr>\n",
       "      <th>3</th>\n",
       "      <td>Male</td>\n",
       "      <td>71.730978</td>\n",
       "      <td>220.042470</td>\n",
       "    </tr>\n",
       "    <tr>\n",
       "      <th>4</th>\n",
       "      <td>Male</td>\n",
       "      <td>69.881796</td>\n",
       "      <td>206.349801</td>\n",
       "    </tr>\n",
       "  </tbody>\n",
       "</table>\n",
       "</div>"
      ],
      "text/plain": [
       "  Gender     Height      Weight\n",
       "0   Male  73.847017  241.893563\n",
       "1   Male  68.781904  162.310473\n",
       "2   Male  74.110105  212.740856\n",
       "3   Male  71.730978  220.042470\n",
       "4   Male  69.881796  206.349801"
      ]
     },
     "execution_count": 57,
     "metadata": {},
     "output_type": "execute_result"
    }
   ],
   "source": [
    "df=pd.read_csv(\"data/01_heights_weights_genders.csv\")\n",
    "df.head()"
   ]
  },
  {
   "cell_type": "code",
   "execution_count": 90,
   "metadata": {
    "collapsed": false
   },
   "outputs": [
    {
     "data": {
      "image/png": "[encoded data removed]",
      "text/plain": [
       "<matplotlib.figure.Figure at 0x7f0a33dfc5d0>"
      ]
     },
     "metadata": {},
     "output_type": "display_data"
    }
   ],
   "source": [
    "plt.plot(df.Weight, df.Height, '.', alpha=0.05);"
   ]
  },
  {
   "cell_type": "markdown",
   "metadata": {},
   "source": [
    "The data looks vaguely elliptical and has two \"clusters\". Besides we know that heights and weights have normal distributions associated with them. So we decide to fit these features, with no knowledge of labels, with a mixture of two 2-D normal distributions. \n",
    "\n",
    "$$P(x) = \\lambda G_0(\\v{x},\\theta_0) + (1 - \\lambda) G_1(\\v{x},\\theta_1) $$\n",
    "\n",
    "What we are doing is a probability distribution estimation on these height and weight features, by fitting for the parameters of whats known as a \"mixture of gaussians\". \n",
    "\n",
    "At this point, you may object, saying that we know from generative classifiers that we can find $P(x)$ as:\n",
    "\n",
    "$$P(x) = \\sum_y P(x|y, \\theta_y) P(y).$$\n",
    "\n",
    "You are right, if you knew the labels. But remember, I have taken these labels away from you, and thus there are no $y$'s, and this formula does not hold any more.\n",
    "\n",
    "But your objection also makes sense: why not right the input density $P(x)$ as a sum of components, each of which is some other probability distribution. This is the notion of **clustering**: an attempt to find hidden structure in the data. So we can always write:\n",
    "\n",
    "$$P(x) = \\sum_z \\lambda_z P(x|z, \\theta_z),$$\n",
    "\n",
    "where $z$ is some **hidden** variable which indexes the number of clusters in our problem. This is a variant of the idea behind the famous **kmeans** clustering algorithm, which we shall encounter in class.\n",
    "\n",
    "So thats what we do below here, using two clusters based on our visual reconnoiter of the density in the graph above:"
   ]
  },
  {
   "cell_type": "markdown",
   "metadata": {},
   "source": [
    "### KMeans"
   ]
  },
  {
   "cell_type": "code",
   "execution_count": 131,
   "metadata": {
    "collapsed": false
   },
   "outputs": [],
   "source": [
    "Xall=df[['Height', 'Weight']].values\n",
    "from sklearn.cluster import KMeans\n",
    "n_clusters=2\n",
    "clfKMeans = KMeans(n_clusters=n_clusters)\n",
    "clfKMeans.fit(Xall)\n",
    "\n",
    "kmeans_labels = clfKMeans.predict(Xall)\n"
   ]
  },
  {
   "cell_type": "code",
   "execution_count": 143,
   "metadata": {
    "collapsed": false
   },
   "outputs": [
    {
     "data": {
      "text/plain": [
       "array([[  63.42145952,  134.41273247],\n",
       "       [  69.36477248,  188.93688894]])"
      ]
     },
     "execution_count": 143,
     "metadata": {},
     "output_type": "execute_result"
    },
    {
     "data": {
      "image/png": "[encoded data removed]",
      "text/plain": [
       "<matplotlib.figure.Figure at 0x7f0a33ac2ad0>"
      ]
     },
     "metadata": {},
     "output_type": "display_data"
    }
   ],
   "source": [
    "\n",
    "plt.figure()\n",
    "ax=plt.gca()\n",
    "\n",
    "for k, col in zip(range(n_clusters), ['blue','red']):\n",
    "    my_members = kmeans_labels == k\n",
    "    ax.plot(Xall[my_members, 0], Xall[my_members, 1], 'w',\n",
    "            markerfacecolor=col, marker='.', alpha=0.05)"
   ]
  },
  {
   "cell_type": "markdown",
   "metadata": {},
   "source": [
    "### GMM (_Gaussian_ Mixture Model)"
   ]
  },
  {
   "cell_type": "code",
   "execution_count": 121,
   "metadata": {
    "collapsed": false
   },
   "outputs": [
    {
     "name": "stdout",
     "output_type": "stream",
     "text": [
      "GMM(covariance_type='tied', init_params='wmc', min_covar=0.001,\n",
      "  n_components=2, n_init=1, n_iter=100, params='wmc', random_state=None,\n",
      "  thresh=None, tol=0.001, verbose=0)\n",
      "[[  63.7528205   136.62921198]\n",
      " [  69.04862707  186.88088569]] [[   7.79270034   47.71088268]\n",
      " [  47.71088268  399.64111352]]\n"
     ]
    }
   ],
   "source": [
    "Xall=df[['Height', 'Weight']].values\n",
    "from sklearn.mixture import GMM\n",
    "n_clusters=2\n",
    "clfgmm = GMM(n_components=n_clusters, covariance_type=\"tied\")\n",
    "clfgmm.fit(Xall)\n",
    "print clfgmm\n",
    "gmm_means=clfgmm.means_\n",
    "gmm_covar=clfgmm.covars_\n",
    "print gmm_means, gmm_covar"
   ]
  },
  {
   "cell_type": "markdown",
   "metadata": {},
   "source": [
    "How do we use these gaussians to assign clusters? Just like we did in the generative case with LDA, we can ask, which Gaussian is higher at a particular sample. We'll cluster that sample under an artificial label created by that cluster. \n",
    "\n",
    "We plot the results below."
   ]
  },
  {
   "cell_type": "code",
   "execution_count": 122,
   "metadata": {
    "collapsed": true
   },
   "outputs": [],
   "source": [
    "from scipy import linalg\n",
    "\n",
    "def plot_ellipse(splot, mean, cov, color):\n",
    "    v, w = linalg.eigh(cov)\n",
    "    u = w[0] / linalg.norm(w[0])\n",
    "    angle = np.arctan(u[1] / u[0])\n",
    "    angle = 180 * angle / np.pi  # convert to degrees\n",
    "    # filled Gaussian at 2 standard deviation\n",
    "    ell = mpl.patches.Ellipse(mean, 2 * v[0] ** 0.5, 2 * v[1] ** 0.5,\n",
    "                              180 + angle, color=color, lw=3, fill=False)\n",
    "    ell.set_clip_box(splot.bbox)\n",
    "    ell1 = mpl.patches.Ellipse(mean, 1 * v[0] ** 0.5, 1 * v[1] ** 0.5,\n",
    "                              180 + angle, color=color, lw=3, fill=False)\n",
    "    ell1.set_clip_box(splot.bbox)\n",
    "    ell3 = mpl.patches.Ellipse(mean, 3 * v[0] ** 0.5, 3 * v[1] ** 0.5,\n",
    "                              180 + angle, color=color, lw=3, fill=False)\n",
    "    ell3.set_clip_box(splot.bbox)\n",
    "    #ell.set_alpha(0.2)\n",
    "    splot.add_artist(ell)\n",
    "    splot.add_artist(ell1)\n",
    "    splot.add_artist(ell3)"
   ]
  },
  {
   "cell_type": "code",
   "execution_count": 123,
   "metadata": {
    "collapsed": false
   },
   "outputs": [
    {
     "name": "stdout",
     "output_type": "stream",
     "text": [
      "[False  True False ...,  True  True  True]\n",
      "[ True False  True ..., False False False]\n"
     ]
    },
    {
     "data": {
      "image/png": "[encoded data removed]",
      "text/plain": [
       "<matplotlib.figure.Figure at 0x7f0a33c7dd10>"
      ]
     },
     "metadata": {},
     "output_type": "display_data"
    }
   ],
   "source": [
    "plt.figure()\n",
    "ax=plt.gca()\n",
    "plot_ellipse(ax, gmm_means[0], gmm_covar, 'k')\n",
    "plot_ellipse(ax, gmm_means[1], gmm_covar, 'k')\n",
    "gmm_labels=clfgmm.predict(Xall)\n",
    "for k, col in zip(range(n_clusters), ['blue','red']):\n",
    "    my_members = gmm_labels == k\n",
    "    ax.plot(Xall[my_members, 0], Xall[my_members, 1], 'w',\n",
    "            markerfacecolor=col, marker='.', alpha=0.05)"
   ]
  },
  {
   "cell_type": "markdown",
   "metadata": {},
   "source": [
    "How do we know, a-priori, that two is the right number of clusters? We can try and fit a mixture of 3 gaussians"
   ]
  },
  {
   "cell_type": "code",
   "execution_count": null,
   "metadata": {
    "collapsed": true
   },
   "outputs": [],
   "source": [
    "n_clusters=3\n",
    "clfgmm3 = GMM(n_components=n_clusters, covariance_type=\"tied\")\n",
    "clfgmm3.fit(Xall)\n",
    "print clfgmm\n",
    "gmm_means=clfgmm3.means_\n",
    "gmm_covar=clfgmm3.covars_\n",
    "print gmm_means, gmm_covar\n",
    "plt.figure()\n",
    "ax=plt.gca()\n",
    "plot_ellipse(ax, gmm_means[0], gmm_covar, 'k')\n",
    "plot_ellipse(ax, gmm_means[1], gmm_covar, 'k')\n",
    "plot_ellipse(ax, gmm_means[2], gmm_covar, 'k')\n",
    "gmm_labels=clfgmm3.predict(Xall)\n",
    "for k, col in zip(range(n_clusters), ['blue','red', 'green']):\n",
    "    my_members = gmm_labels == k\n",
    "    ax.plot(Xall[my_members, 0], Xall[my_members, 1], 'w',\n",
    "            markerfacecolor=col, marker='.', alpha=0.05)"
   ]
  },
  {
   "cell_type": "markdown",
   "metadata": {},
   "source": [
    "# Problem3\n",
    "\n",
    "We should find which custer number is suited in clustering problem. How to find the resaonable cluster size?\n",
    "\n",
    "Briefly write your opinion."
   ]
  },
  {
   "cell_type": "code",
   "execution_count": null,
   "metadata": {
    "collapsed": true
   },
   "outputs": [],
   "source": []
  }
 ],
 "metadata": {
  "kernelspec": {
   "display_name": "Python 2",
   "language": "python",
   "name": "python2"
  },
  "language_info": {
   "codemirror_mode": {
    "name": "ipython",
    "version": 2
   },
   "file_extension": ".py",
   "mimetype": "text/x-python",
   "name": "python",
   "nbconvert_exporter": "python",
   "pygments_lexer": "ipython2",
   "version": "2.7.6"
  }
 },
 "nbformat": 4,
 "nbformat_minor": 0
}
